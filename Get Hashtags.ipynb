{
 "cells": [
  {
   "cell_type": "raw",
   "metadata": {},
   "source": [
    "import tweepy\n",
    "import csv\n",
    "\n",
    "consumer_key = \"JHqdy8ZnC9XIjSNzfyfCqVsoV\"\n",
    "consumer_secret = \"KDB3qtRqQyo7jeFAJ4mecJkIdnRCnJLBsHyg9czylBzul1rjh1\"\n",
    "access_key = \"1311451429882793985-DEtgkIrHM7wP52BWKn7fjKxmwybYyP\"\n",
    "access_secret = \"sIAHSnonbtINwkv6kLIiQbqLpCvKhNGYL2xVjKEsnFcs3\"\n",
    "\n",
    "auth = tweepy.OAuthHandler(consumer_key, consumer_secret)\n",
    "auth.set_access_token(access_key, access_secret)\n",
    "api = tweepy.API(auth)\n",
    "\n",
    "# Open/Create a file to append data\n",
    "csvFile = open('hashtag_election_tweets.csv', 'a')\n",
    "#Use csv Writer\n",
    "csvWriter = csv.writer(csvFile)\n",
    "\n",
    "\n",
    "for tweet in tweepy.Cursor(api.search_tweets,q=\"#election2020\",count=100,\\\n",
    "                           lang=\"en\",\\\n",
    "                           since_id=\"2020-09-22\", max_id = \"2020-11-10\").items():\n",
    "    print (tweet.created_at, tweet.text)\n",
    "    csvWriter.writerow([tweet.created_at, tweet.text.encode('utf-8')])"
   ]
  },
  {
   "cell_type": "raw",
   "metadata": {},
   "source": [
    "df = pd.read_csv(\"hashtag_election_tweets.csv\")"
   ]
  },
  {
   "cell_type": "raw",
   "metadata": {},
   "source": [
    "# df.tail()"
   ]
  },
  {
   "cell_type": "code",
   "execution_count": 71,
   "metadata": {},
   "outputs": [],
   "source": [
    "import pandas as pd"
   ]
  },
  {
   "cell_type": "code",
   "execution_count": 72,
   "metadata": {},
   "outputs": [],
   "source": [
    "df = pd.read_csv(\"hashtags.csv\")"
   ]
  },
  {
   "cell_type": "code",
   "execution_count": 73,
   "metadata": {},
   "outputs": [
    {
     "data": {
      "text/html": [
       "<div>\n",
       "<style scoped>\n",
       "    .dataframe tbody tr th:only-of-type {\n",
       "        vertical-align: middle;\n",
       "    }\n",
       "\n",
       "    .dataframe tbody tr th {\n",
       "        vertical-align: top;\n",
       "    }\n",
       "\n",
       "    .dataframe thead th {\n",
       "        text-align: right;\n",
       "    }\n",
       "</style>\n",
       "<table border=\"1\" class=\"dataframe\">\n",
       "  <thead>\n",
       "    <tr style=\"text-align: right;\">\n",
       "      <th></th>\n",
       "      <th>tweet_id</th>\n",
       "      <th>created_at</th>\n",
       "      <th>retweet_count</th>\n",
       "      <th>favorite_count</th>\n",
       "      <th>text</th>\n",
       "    </tr>\n",
       "  </thead>\n",
       "  <tbody>\n",
       "    <tr>\n",
       "      <th>0</th>\n",
       "      <td>1325951081810022400</td>\n",
       "      <td>2020-11-09T23:59:07.000Z</td>\n",
       "      <td>0</td>\n",
       "      <td>0</td>\n",
       "      <td>#ExposeUSPS  #ExposeTheCoup  #expose2020 https...</td>\n",
       "    </tr>\n",
       "    <tr>\n",
       "      <th>1</th>\n",
       "      <td>1325917560517390337</td>\n",
       "      <td>2020-11-09T21:45:55.000Z</td>\n",
       "      <td>85</td>\n",
       "      <td>0</td>\n",
       "      <td>RT @KYLE_P_WOODY: How does Biden get all the v...</td>\n",
       "    </tr>\n",
       "    <tr>\n",
       "      <th>2</th>\n",
       "      <td>1325910318074171392</td>\n",
       "      <td>2020-11-09T21:17:08.000Z</td>\n",
       "      <td>3</td>\n",
       "      <td>0</td>\n",
       "      <td>RT @Truth4Saints: For all that is secret will ...</td>\n",
       "    </tr>\n",
       "    <tr>\n",
       "      <th>3</th>\n",
       "      <td>1325901022087278592</td>\n",
       "      <td>2020-11-09T20:40:12.000Z</td>\n",
       "      <td>3</td>\n",
       "      <td>0</td>\n",
       "      <td>RT @Truth4Saints: For all that is secret will ...</td>\n",
       "    </tr>\n",
       "    <tr>\n",
       "      <th>4</th>\n",
       "      <td>1325900965594140672</td>\n",
       "      <td>2020-11-09T20:39:58.000Z</td>\n",
       "      <td>3</td>\n",
       "      <td>5</td>\n",
       "      <td>For all that is secret will eventually be brou...</td>\n",
       "    </tr>\n",
       "  </tbody>\n",
       "</table>\n",
       "</div>"
      ],
      "text/plain": [
       "              tweet_id                created_at  retweet_count  \\\n",
       "0  1325951081810022400  2020-11-09T23:59:07.000Z              0   \n",
       "1  1325917560517390337  2020-11-09T21:45:55.000Z             85   \n",
       "2  1325910318074171392  2020-11-09T21:17:08.000Z              3   \n",
       "3  1325901022087278592  2020-11-09T20:40:12.000Z              3   \n",
       "4  1325900965594140672  2020-11-09T20:39:58.000Z              3   \n",
       "\n",
       "   favorite_count                                               text  \n",
       "0               0  #ExposeUSPS  #ExposeTheCoup  #expose2020 https...  \n",
       "1               0  RT @KYLE_P_WOODY: How does Biden get all the v...  \n",
       "2               0  RT @Truth4Saints: For all that is secret will ...  \n",
       "3               0  RT @Truth4Saints: For all that is secret will ...  \n",
       "4               5  For all that is secret will eventually be brou...  "
      ]
     },
     "execution_count": 73,
     "metadata": {},
     "output_type": "execute_result"
    }
   ],
   "source": [
    "df.head()"
   ]
  },
  {
   "cell_type": "code",
   "execution_count": 76,
   "metadata": {},
   "outputs": [
    {
     "data": {
      "text/plain": [
       "dtype('O')"
      ]
     },
     "execution_count": 76,
     "metadata": {},
     "output_type": "execute_result"
    }
   ],
   "source": [
    "df.created_at.dtype"
   ]
  },
  {
   "cell_type": "code",
   "execution_count": 78,
   "metadata": {},
   "outputs": [],
   "source": [
    "df['created_at'] = pd.to_datetime(df['created_at'])"
   ]
  },
  {
   "cell_type": "code",
   "execution_count": 79,
   "metadata": {},
   "outputs": [],
   "source": [
    "df['Date']=df['created_at'].dt.date"
   ]
  },
  {
   "cell_type": "code",
   "execution_count": 80,
   "metadata": {},
   "outputs": [
    {
     "data": {
      "text/html": [
       "<div>\n",
       "<style scoped>\n",
       "    .dataframe tbody tr th:only-of-type {\n",
       "        vertical-align: middle;\n",
       "    }\n",
       "\n",
       "    .dataframe tbody tr th {\n",
       "        vertical-align: top;\n",
       "    }\n",
       "\n",
       "    .dataframe thead th {\n",
       "        text-align: right;\n",
       "    }\n",
       "</style>\n",
       "<table border=\"1\" class=\"dataframe\">\n",
       "  <thead>\n",
       "    <tr style=\"text-align: right;\">\n",
       "      <th></th>\n",
       "      <th>tweet_id</th>\n",
       "      <th>created_at</th>\n",
       "      <th>retweet_count</th>\n",
       "      <th>favorite_count</th>\n",
       "      <th>text</th>\n",
       "      <th>Date</th>\n",
       "    </tr>\n",
       "  </thead>\n",
       "  <tbody>\n",
       "    <tr>\n",
       "      <th>0</th>\n",
       "      <td>1325951081810022400</td>\n",
       "      <td>2020-11-09 23:59:07+00:00</td>\n",
       "      <td>0</td>\n",
       "      <td>0</td>\n",
       "      <td>#ExposeUSPS  #ExposeTheCoup  #expose2020 https...</td>\n",
       "      <td>2020-11-09</td>\n",
       "    </tr>\n",
       "    <tr>\n",
       "      <th>1</th>\n",
       "      <td>1325917560517390337</td>\n",
       "      <td>2020-11-09 21:45:55+00:00</td>\n",
       "      <td>85</td>\n",
       "      <td>0</td>\n",
       "      <td>RT @KYLE_P_WOODY: How does Biden get all the v...</td>\n",
       "      <td>2020-11-09</td>\n",
       "    </tr>\n",
       "    <tr>\n",
       "      <th>2</th>\n",
       "      <td>1325910318074171392</td>\n",
       "      <td>2020-11-09 21:17:08+00:00</td>\n",
       "      <td>3</td>\n",
       "      <td>0</td>\n",
       "      <td>RT @Truth4Saints: For all that is secret will ...</td>\n",
       "      <td>2020-11-09</td>\n",
       "    </tr>\n",
       "    <tr>\n",
       "      <th>3</th>\n",
       "      <td>1325901022087278592</td>\n",
       "      <td>2020-11-09 20:40:12+00:00</td>\n",
       "      <td>3</td>\n",
       "      <td>0</td>\n",
       "      <td>RT @Truth4Saints: For all that is secret will ...</td>\n",
       "      <td>2020-11-09</td>\n",
       "    </tr>\n",
       "    <tr>\n",
       "      <th>4</th>\n",
       "      <td>1325900965594140672</td>\n",
       "      <td>2020-11-09 20:39:58+00:00</td>\n",
       "      <td>3</td>\n",
       "      <td>5</td>\n",
       "      <td>For all that is secret will eventually be brou...</td>\n",
       "      <td>2020-11-09</td>\n",
       "    </tr>\n",
       "  </tbody>\n",
       "</table>\n",
       "</div>"
      ],
      "text/plain": [
       "              tweet_id                created_at  retweet_count  \\\n",
       "0  1325951081810022400 2020-11-09 23:59:07+00:00              0   \n",
       "1  1325917560517390337 2020-11-09 21:45:55+00:00             85   \n",
       "2  1325910318074171392 2020-11-09 21:17:08+00:00              3   \n",
       "3  1325901022087278592 2020-11-09 20:40:12+00:00              3   \n",
       "4  1325900965594140672 2020-11-09 20:39:58+00:00              3   \n",
       "\n",
       "   favorite_count                                               text  \\\n",
       "0               0  #ExposeUSPS  #ExposeTheCoup  #expose2020 https...   \n",
       "1               0  RT @KYLE_P_WOODY: How does Biden get all the v...   \n",
       "2               0  RT @Truth4Saints: For all that is secret will ...   \n",
       "3               0  RT @Truth4Saints: For all that is secret will ...   \n",
       "4               5  For all that is secret will eventually be brou...   \n",
       "\n",
       "         Date  \n",
       "0  2020-11-09  \n",
       "1  2020-11-09  \n",
       "2  2020-11-09  \n",
       "3  2020-11-09  \n",
       "4  2020-11-09  "
      ]
     },
     "execution_count": 80,
     "metadata": {},
     "output_type": "execute_result"
    }
   ],
   "source": [
    "df.head()"
   ]
  },
  {
   "cell_type": "markdown",
   "metadata": {},
   "source": [
    "steps: \n",
    "    \n",
    "    - split df by hashtag\n",
    "    - frequency by date column\n",
    "    - make cumulative frequency column by date\n",
    "    - plot date x cumulative frequency\n",
    "    \n"
   ]
  },
  {
   "cell_type": "code",
   "execution_count": 84,
   "metadata": {},
   "outputs": [
    {
     "ename": "AttributeError",
     "evalue": "type object 'str' has no attribute 'contains'",
     "output_type": "error",
     "traceback": [
      "\u001b[1;31m---------------------------------------------------------------------------\u001b[0m",
      "\u001b[1;31mAttributeError\u001b[0m                            Traceback (most recent call last)",
      "\u001b[1;32m<ipython-input-84-6a0d5d99b129>\u001b[0m in \u001b[0;36m<module>\u001b[1;34m\u001b[0m\n\u001b[0;32m      1\u001b[0m \u001b[0mst\u001b[0m \u001b[1;33m=\u001b[0m \u001b[1;34m\"#cats\"\u001b[0m\u001b[1;33m\u001b[0m\u001b[1;33m\u001b[0m\u001b[0m\n\u001b[0;32m      2\u001b[0m \u001b[1;33m\u001b[0m\u001b[0m\n\u001b[1;32m----> 3\u001b[1;33m \u001b[0mstr\u001b[0m\u001b[1;33m.\u001b[0m\u001b[0mcontains\u001b[0m\u001b[1;33m(\u001b[0m\u001b[1;34m\"cats\"\u001b[0m\u001b[1;33m)\u001b[0m\u001b[1;33m\u001b[0m\u001b[1;33m\u001b[0m\u001b[0m\n\u001b[0m",
      "\u001b[1;31mAttributeError\u001b[0m: type object 'str' has no attribute 'contains'"
     ]
    }
   ],
   "source": [
    "st = \"#cats\"\n",
    "\n",
    "contains(\"cats\")"
   ]
  },
  {
   "cell_type": "code",
   "execution_count": 95,
   "metadata": {},
   "outputs": [],
   "source": [
    "hashtag_list = [\"election2020\", \"lyinglindsey\", \"moscowmitch\", \"expose2020\"]\n",
    "list_of_dfs = []\n",
    "\n",
    "for hashtag in (hashtag_list):\n",
    "    dataframe = df[['tweet_id','Date']].loc[df['text'].str.contains(hashtag, case=False)]\n",
    "    list_of_dfs.append(dataframe)"
   ]
  },
  {
   "cell_type": "code",
   "execution_count": 99,
   "metadata": {},
   "outputs": [
    {
     "data": {
      "text/plain": [
       "2235"
      ]
     },
     "execution_count": 99,
     "metadata": {},
     "output_type": "execute_result"
    }
   ],
   "source": [
    "len(df)"
   ]
  },
  {
   "cell_type": "code",
   "execution_count": 104,
   "metadata": {},
   "outputs": [
    {
     "data": {
      "text/plain": [
       "45"
      ]
     },
     "execution_count": 104,
     "metadata": {},
     "output_type": "execute_result"
    }
   ],
   "source": [
    "len(list_of_dfs[0])"
   ]
  },
  {
   "cell_type": "code",
   "execution_count": 105,
   "metadata": {},
   "outputs": [],
   "source": [
    "election2020 = list_of_dfs[0]"
   ]
  },
  {
   "cell_type": "code",
   "execution_count": 106,
   "metadata": {},
   "outputs": [],
   "source": [
    "expose2020 = list_of_dfs[3]"
   ]
  },
  {
   "cell_type": "code",
   "execution_count": 107,
   "metadata": {},
   "outputs": [
    {
     "data": {
      "text/html": [
       "<div>\n",
       "<style scoped>\n",
       "    .dataframe tbody tr th:only-of-type {\n",
       "        vertical-align: middle;\n",
       "    }\n",
       "\n",
       "    .dataframe tbody tr th {\n",
       "        vertical-align: top;\n",
       "    }\n",
       "\n",
       "    .dataframe thead th {\n",
       "        text-align: right;\n",
       "    }\n",
       "</style>\n",
       "<table border=\"1\" class=\"dataframe\">\n",
       "  <thead>\n",
       "    <tr style=\"text-align: right;\">\n",
       "      <th></th>\n",
       "      <th>tweet_id</th>\n",
       "      <th>Date</th>\n",
       "    </tr>\n",
       "  </thead>\n",
       "  <tbody>\n",
       "    <tr>\n",
       "      <th>18</th>\n",
       "      <td>1325476402976747521</td>\n",
       "      <td>2020-11-08</td>\n",
       "    </tr>\n",
       "    <tr>\n",
       "      <th>22</th>\n",
       "      <td>1325440669125644288</td>\n",
       "      <td>2020-11-08</td>\n",
       "    </tr>\n",
       "    <tr>\n",
       "      <th>24</th>\n",
       "      <td>1325438548279963649</td>\n",
       "      <td>2020-11-08</td>\n",
       "    </tr>\n",
       "    <tr>\n",
       "      <th>28</th>\n",
       "      <td>1325272749816897537</td>\n",
       "      <td>2020-11-08</td>\n",
       "    </tr>\n",
       "    <tr>\n",
       "      <th>36</th>\n",
       "      <td>1325202026297499649</td>\n",
       "      <td>2020-11-07</td>\n",
       "    </tr>\n",
       "  </tbody>\n",
       "</table>\n",
       "</div>"
      ],
      "text/plain": [
       "               tweet_id        Date\n",
       "18  1325476402976747521  2020-11-08\n",
       "22  1325440669125644288  2020-11-08\n",
       "24  1325438548279963649  2020-11-08\n",
       "28  1325272749816897537  2020-11-08\n",
       "36  1325202026297499649  2020-11-07"
      ]
     },
     "execution_count": 107,
     "metadata": {},
     "output_type": "execute_result"
    }
   ],
   "source": [
    "election2020.head()"
   ]
  },
  {
   "cell_type": "code",
   "execution_count": 108,
   "metadata": {},
   "outputs": [],
   "source": [
    "election2020_freq =  election2020.groupby(['Date']).count()"
   ]
  },
  {
   "cell_type": "code",
   "execution_count": 110,
   "metadata": {},
   "outputs": [
    {
     "data": {
      "text/plain": [
       "Index(['tweet_id'], dtype='object')"
      ]
     },
     "execution_count": 110,
     "metadata": {},
     "output_type": "execute_result"
    }
   ],
   "source": [
    "election2020_freq.columns"
   ]
  },
  {
   "cell_type": "code",
   "execution_count": 125,
   "metadata": {},
   "outputs": [],
   "source": [
    "election2020_freq['cumulative_frequency'] = election2020_freq.iloc[:, 0].cumsum()"
   ]
  },
  {
   "cell_type": "code",
   "execution_count": 126,
   "metadata": {},
   "outputs": [
    {
     "data": {
      "text/html": [
       "<div>\n",
       "<style scoped>\n",
       "    .dataframe tbody tr th:only-of-type {\n",
       "        vertical-align: middle;\n",
       "    }\n",
       "\n",
       "    .dataframe tbody tr th {\n",
       "        vertical-align: top;\n",
       "    }\n",
       "\n",
       "    .dataframe thead th {\n",
       "        text-align: right;\n",
       "    }\n",
       "</style>\n",
       "<table border=\"1\" class=\"dataframe\">\n",
       "  <thead>\n",
       "    <tr style=\"text-align: right;\">\n",
       "      <th></th>\n",
       "      <th>tweet_id</th>\n",
       "      <th>cumulative_frequency</th>\n",
       "    </tr>\n",
       "    <tr>\n",
       "      <th>Date</th>\n",
       "      <th></th>\n",
       "      <th></th>\n",
       "    </tr>\n",
       "  </thead>\n",
       "  <tbody>\n",
       "    <tr>\n",
       "      <th>2020-09-28</th>\n",
       "      <td>1</td>\n",
       "      <td>1</td>\n",
       "    </tr>\n",
       "    <tr>\n",
       "      <th>2020-10-01</th>\n",
       "      <td>1</td>\n",
       "      <td>2</td>\n",
       "    </tr>\n",
       "    <tr>\n",
       "      <th>2020-10-05</th>\n",
       "      <td>1</td>\n",
       "      <td>3</td>\n",
       "    </tr>\n",
       "    <tr>\n",
       "      <th>2020-10-06</th>\n",
       "      <td>1</td>\n",
       "      <td>4</td>\n",
       "    </tr>\n",
       "    <tr>\n",
       "      <th>2020-10-07</th>\n",
       "      <td>1</td>\n",
       "      <td>5</td>\n",
       "    </tr>\n",
       "    <tr>\n",
       "      <th>2020-10-10</th>\n",
       "      <td>2</td>\n",
       "      <td>7</td>\n",
       "    </tr>\n",
       "    <tr>\n",
       "      <th>2020-10-13</th>\n",
       "      <td>1</td>\n",
       "      <td>8</td>\n",
       "    </tr>\n",
       "    <tr>\n",
       "      <th>2020-10-14</th>\n",
       "      <td>1</td>\n",
       "      <td>9</td>\n",
       "    </tr>\n",
       "    <tr>\n",
       "      <th>2020-10-15</th>\n",
       "      <td>3</td>\n",
       "      <td>12</td>\n",
       "    </tr>\n",
       "    <tr>\n",
       "      <th>2020-10-19</th>\n",
       "      <td>1</td>\n",
       "      <td>13</td>\n",
       "    </tr>\n",
       "    <tr>\n",
       "      <th>2020-10-20</th>\n",
       "      <td>2</td>\n",
       "      <td>15</td>\n",
       "    </tr>\n",
       "    <tr>\n",
       "      <th>2020-10-26</th>\n",
       "      <td>4</td>\n",
       "      <td>19</td>\n",
       "    </tr>\n",
       "    <tr>\n",
       "      <th>2020-10-27</th>\n",
       "      <td>2</td>\n",
       "      <td>21</td>\n",
       "    </tr>\n",
       "    <tr>\n",
       "      <th>2020-10-28</th>\n",
       "      <td>2</td>\n",
       "      <td>23</td>\n",
       "    </tr>\n",
       "    <tr>\n",
       "      <th>2020-10-30</th>\n",
       "      <td>1</td>\n",
       "      <td>24</td>\n",
       "    </tr>\n",
       "    <tr>\n",
       "      <th>2020-11-02</th>\n",
       "      <td>2</td>\n",
       "      <td>26</td>\n",
       "    </tr>\n",
       "    <tr>\n",
       "      <th>2020-11-03</th>\n",
       "      <td>3</td>\n",
       "      <td>29</td>\n",
       "    </tr>\n",
       "    <tr>\n",
       "      <th>2020-11-04</th>\n",
       "      <td>6</td>\n",
       "      <td>35</td>\n",
       "    </tr>\n",
       "    <tr>\n",
       "      <th>2020-11-05</th>\n",
       "      <td>2</td>\n",
       "      <td>37</td>\n",
       "    </tr>\n",
       "    <tr>\n",
       "      <th>2020-11-06</th>\n",
       "      <td>2</td>\n",
       "      <td>39</td>\n",
       "    </tr>\n",
       "    <tr>\n",
       "      <th>2020-11-07</th>\n",
       "      <td>2</td>\n",
       "      <td>41</td>\n",
       "    </tr>\n",
       "    <tr>\n",
       "      <th>2020-11-08</th>\n",
       "      <td>4</td>\n",
       "      <td>45</td>\n",
       "    </tr>\n",
       "  </tbody>\n",
       "</table>\n",
       "</div>"
      ],
      "text/plain": [
       "            tweet_id  cumulative_frequency\n",
       "Date                                      \n",
       "2020-09-28         1                     1\n",
       "2020-10-01         1                     2\n",
       "2020-10-05         1                     3\n",
       "2020-10-06         1                     4\n",
       "2020-10-07         1                     5\n",
       "2020-10-10         2                     7\n",
       "2020-10-13         1                     8\n",
       "2020-10-14         1                     9\n",
       "2020-10-15         3                    12\n",
       "2020-10-19         1                    13\n",
       "2020-10-20         2                    15\n",
       "2020-10-26         4                    19\n",
       "2020-10-27         2                    21\n",
       "2020-10-28         2                    23\n",
       "2020-10-30         1                    24\n",
       "2020-11-02         2                    26\n",
       "2020-11-03         3                    29\n",
       "2020-11-04         6                    35\n",
       "2020-11-05         2                    37\n",
       "2020-11-06         2                    39\n",
       "2020-11-07         2                    41\n",
       "2020-11-08         4                    45"
      ]
     },
     "execution_count": 126,
     "metadata": {},
     "output_type": "execute_result"
    }
   ],
   "source": [
    "election2020_freq"
   ]
  },
  {
   "cell_type": "code",
   "execution_count": 128,
   "metadata": {},
   "outputs": [
    {
     "data": {
      "image/png": "[encoded data removed]",
      "text/plain": [
       "<Figure size 1080x720 with 1 Axes>"
      ]
     },
     "metadata": {
      "needs_background": "light"
     },
     "output_type": "display_data"
    }
   ],
   "source": [
    "import matplotlib.pyplot as plt\n",
    "plt.figure(figsize=(15, 10))\n",
    "\n",
    "x = election2020_freq.index\n",
    "y = election2020_freq['cumulative_frequency']\n",
    "\n",
    "plt.title(\"Cumulative Frequency of #election2020 Leading up to Election\")\n",
    "plt.xlabel(\"Date\")\n",
    "plt.ylabel(\"Cumulative Count\")\n",
    "\n",
    "# plot\n",
    "\n",
    "plt.plot(x,y, '-o')\n",
    "\n",
    "plt.show()"
   ]
  },
  {
   "cell_type": "code",
   "execution_count": 129,
   "metadata": {},
   "outputs": [
    {
     "data": {
      "image/png": "[encoded data removed]",
      "text/plain": [
       "<Figure size 1080x720 with 1 Axes>"
      ]
     },
     "metadata": {
      "needs_background": "light"
     },
     "output_type": "display_data"
    }
   ],
   "source": [
    "expose2020_freq =  expose2020.groupby(['Date']).count()\n",
    "expose2020_freq['cumulative_frequency'] = expose2020_freq.iloc[:, 0].cumsum()\n",
    "\n",
    "import matplotlib.pyplot as plt\n",
    "plt.figure(figsize=(15, 10))\n",
    "\n",
    "x = expose2020_freq.index\n",
    "y = expose2020_freq['cumulative_frequency']\n",
    "\n",
    "plt.title(\"Cumulative Frequency of #expose2020 Leading up to Election\")\n",
    "plt.xlabel(\"Date\")\n",
    "plt.ylabel(\"Cumulative Count\")\n",
    "\n",
    "# plot\n",
    "\n",
    "plt.plot(x,y, '-o')\n",
    "\n",
    "plt.show()"
   ]
  },
  {
   "cell_type": "code",
   "execution_count": null,
   "metadata": {},
   "outputs": [],
   "source": []
  }
 ],
 "metadata": {
  "kernelspec": {
   "display_name": "Python 3",
   "language": "python",
   "name": "python3"
  },
  "language_info": {
   "codemirror_mode": {
    "name": "ipython",
    "version": 3
   },
   "file_extension": ".py",
   "mimetype": "text/x-python",
   "name": "python",
   "nbconvert_exporter": "python",
   "pygments_lexer": "ipython3",
   "version": "3.8.3"
  }
 },
 "nbformat": 4,
 "nbformat_minor": 4
}
